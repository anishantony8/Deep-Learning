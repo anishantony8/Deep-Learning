{
  "nbformat": 4,
  "nbformat_minor": 0,
  "metadata": {
    "colab": {
      "provenance": [],
      "authorship_tag": "ABX9TyNVchHJsGCHNtCLKarSPGQX",
      "include_colab_link": true
    },
    "kernelspec": {
      "name": "python3",
      "display_name": "Python 3"
    },
    "language_info": {
      "name": "python"
    }
  },
  "cells": [
    {
      "cell_type": "markdown",
      "metadata": {
        "id": "view-in-github",
        "colab_type": "text"
      },
      "source": [
        "<a href=\"https://colab.research.google.com/github/anishantony8/Deep-Learning/blob/main/FunctionalApi.ipynb\" target=\"_parent\"><img src=\"https://colab.research.google.com/assets/colab-badge.svg\" alt=\"Open In Colab\"/></a>"
      ]
    },
    {
      "cell_type": "code",
      "execution_count": 2,
      "metadata": {
        "id": "W39pnRwp6HD_"
      },
      "outputs": [],
      "source": [
        "import tensorflow as tf\n",
        "from tensorflow import keras\n",
        "import numpy as np\n",
        "from tensorflow.keras import layers"
      ]
    },
    {
      "cell_type": "code",
      "source": [
        "from keras.api._v2.keras import activations\n",
        "inputs = keras.Input(shape=(28,28))\n",
        "flatten = keras.layers.Flatten()\n",
        "dense1 = keras.layers.Dense(128,activation='relu')\n",
        "dense2 = keras.layers.Dense(10,activation='softmax',name='category_output')\n",
        "dense3 = keras.layers.Dense(1,activation='sigmoid',name='leftright_output')"
      ],
      "metadata": {
        "id": "_Si7iB2T6dt3"
      },
      "execution_count": 3,
      "outputs": []
    },
    {
      "cell_type": "code",
      "source": [
        "x = flatten(inputs)\n",
        "x = dense1(x)\n",
        "output1 = dense2(x)\n",
        "output2 = dense3(x)"
      ],
      "metadata": {
        "id": "Ykgs1pCo8hGj"
      },
      "execution_count": 4,
      "outputs": []
    },
    {
      "cell_type": "code",
      "source": [
        "model = keras.Model(inputs=inputs,outputs=[output1,output2],name='mnist_model')"
      ],
      "metadata": {
        "id": "VuPOrnPU9iV9"
      },
      "execution_count": 5,
      "outputs": []
    },
    {
      "cell_type": "code",
      "source": [
        "model.summary()"
      ],
      "metadata": {
        "colab": {
          "base_uri": "https://localhost:8080/"
        },
        "id": "nQxKD7BT915_",
        "outputId": "e469c179-db0e-4ba1-c4e2-03f2ffa7ca46"
      },
      "execution_count": 6,
      "outputs": [
        {
          "output_type": "stream",
          "name": "stdout",
          "text": [
            "Model: \"mnist_model\"\n",
            "__________________________________________________________________________________________________\n",
            " Layer (type)                   Output Shape         Param #     Connected to                     \n",
            "==================================================================================================\n",
            " input_1 (InputLayer)           [(None, 28, 28)]     0           []                               \n",
            "                                                                                                  \n",
            " flatten (Flatten)              (None, 784)          0           ['input_1[0][0]']                \n",
            "                                                                                                  \n",
            " dense (Dense)                  (None, 128)          100480      ['flatten[0][0]']                \n",
            "                                                                                                  \n",
            " category_output (Dense)        (None, 10)           1290        ['dense[0][0]']                  \n",
            "                                                                                                  \n",
            " leftright_output (Dense)       (None, 1)            129         ['dense[0][0]']                  \n",
            "                                                                                                  \n",
            "==================================================================================================\n",
            "Total params: 101,899\n",
            "Trainable params: 101,899\n",
            "Non-trainable params: 0\n",
            "__________________________________________________________________________________________________\n"
          ]
        }
      ]
    },
    {
      "cell_type": "code",
      "source": [
        "loss1 = keras.losses.SparseCategoricalCrossentropy(from_logits=False)\n",
        "loss2 = keras.losses.BinaryCrossentropy(from_logits=False)\n",
        "optim = keras.optimizers.Adam(learning_rate=0.001)\n",
        "metrics = ['accuracy']"
      ],
      "metadata": {
        "id": "-q-58Dfq94tr"
      },
      "execution_count": 24,
      "outputs": []
    },
    {
      "cell_type": "code",
      "source": [
        "losses = {\n",
        "    'category_output':loss1,\n",
        "    'leftright_output':loss2\n",
        "\n",
        "}"
      ],
      "metadata": {
        "id": "j-kik7kO_AKE"
      },
      "execution_count": 14,
      "outputs": []
    },
    {
      "cell_type": "code",
      "source": [
        "model.compile(loss=losses,optimizer=optim,metrics=metrics)"
      ],
      "metadata": {
        "id": "-st2AQyTADkF"
      },
      "execution_count": 15,
      "outputs": []
    },
    {
      "cell_type": "code",
      "source": [
        "mnist = keras.datasets.mnist\n",
        "(x_train, y_train), (x_test, y_test) = mnist.load_data()\n",
        "x_train, x_test = x_train / 255.0, x_test / 255.0"
      ],
      "metadata": {
        "colab": {
          "base_uri": "https://localhost:8080/"
        },
        "id": "NR5QZQXEARQ7",
        "outputId": "5573d121-06de-458b-efd1-7c45295ab119"
      },
      "execution_count": 16,
      "outputs": [
        {
          "output_type": "stream",
          "name": "stdout",
          "text": [
            "Downloading data from https://storage.googleapis.com/tensorflow/tf-keras-datasets/mnist.npz\n",
            "11490434/11490434 [==============================] - 0s 0us/step\n"
          ]
        }
      ]
    },
    {
      "cell_type": "code",
      "source": [
        "y_leftright = np.zeros(y_train.shape,dtype=np.uint8)\n",
        "for idx,y in enumerate(y_train):\n",
        "  if y>5:\n",
        "    y_left_right[y]=1"
      ],
      "metadata": {
        "id": "4hgObVQTAfJP"
      },
      "execution_count": 19,
      "outputs": []
    },
    {
      "cell_type": "code",
      "source": [
        "print(y_train.dtype, y_train[0:20])\n",
        "print(y_leftright.dtype, y_leftright[0:20])"
      ],
      "metadata": {
        "colab": {
          "base_uri": "https://localhost:8080/"
        },
        "id": "FOCuCHT4B0Zl",
        "outputId": "313955f0-186e-4d22-ba57-4b9d99ac96bd"
      },
      "execution_count": 20,
      "outputs": [
        {
          "output_type": "stream",
          "name": "stdout",
          "text": [
            "uint8 [5 0 4 1 9 2 1 3 1 4 3 5 3 6 1 7 2 8 6 9]\n",
            "uint8 [0 0 0 0 0 0 0 0 0 0 0 0 0 0 0 0 0 0 0 0]\n"
          ]
        }
      ]
    },
    {
      "cell_type": "code",
      "source": [
        "y= {\"category_output\": y_train,\n",
        "    \"leftright_output\": y_leftright }"
      ],
      "metadata": {
        "id": "V2OgfbOXCP6c"
      },
      "execution_count": 22,
      "outputs": []
    },
    {
      "cell_type": "code",
      "source": [
        "model.fit(x_train,y=y,epochs=5,batch_size=64, verbose=2)"
      ],
      "metadata": {
        "colab": {
          "base_uri": "https://localhost:8080/"
        },
        "id": "d5SzRP0LB1NN",
        "outputId": "2e3d6302-1671-476a-d16b-bf5dbffa7a62"
      },
      "execution_count": 25,
      "outputs": [
        {
          "output_type": "stream",
          "name": "stdout",
          "text": [
            "Epoch 1/5\n",
            "938/938 - 5s - loss: 0.0451 - category_output_loss: 0.0451 - leftright_output_loss: 3.8456e-06 - category_output_accuracy: 0.9861 - leftright_output_accuracy: 1.0000 - 5s/epoch - 5ms/step\n",
            "Epoch 2/5\n",
            "938/938 - 4s - loss: 0.0372 - category_output_loss: 0.0372 - leftright_output_loss: 1.9903e-06 - category_output_accuracy: 0.9883 - leftright_output_accuracy: 1.0000 - 4s/epoch - 4ms/step\n",
            "Epoch 3/5\n",
            "938/938 - 4s - loss: 0.0296 - category_output_loss: 0.0296 - leftright_output_loss: 1.0895e-06 - category_output_accuracy: 0.9917 - leftright_output_accuracy: 1.0000 - 4s/epoch - 4ms/step\n",
            "Epoch 4/5\n",
            "938/938 - 4s - loss: 0.0245 - category_output_loss: 0.0245 - leftright_output_loss: 8.0274e-07 - category_output_accuracy: 0.9932 - leftright_output_accuracy: 1.0000 - 4s/epoch - 5ms/step\n",
            "Epoch 5/5\n",
            "938/938 - 4s - loss: 0.0201 - category_output_loss: 0.0201 - leftright_output_loss: 3.9340e-07 - category_output_accuracy: 0.9946 - leftright_output_accuracy: 1.0000 - 4s/epoch - 4ms/step\n"
          ]
        },
        {
          "output_type": "execute_result",
          "data": {
            "text/plain": [
              "<keras.callbacks.History at 0x7fa49d7d3370>"
            ]
          },
          "metadata": {},
          "execution_count": 25
        }
      ]
    },
    {
      "cell_type": "code",
      "source": [
        "predictions = model.predict(x_test)\n",
        "predictions"
      ],
      "metadata": {
        "colab": {
          "base_uri": "https://localhost:8080/"
        },
        "id": "OuXxk40gCLF_",
        "outputId": "f1532b68-746e-482e-dd63-509ea3f5fb38"
      },
      "execution_count": 28,
      "outputs": [
        {
          "output_type": "stream",
          "name": "stdout",
          "text": [
            "313/313 [==============================] - 1s 2ms/step\n"
          ]
        },
        {
          "output_type": "execute_result",
          "data": {
            "text/plain": [
              "[array([[2.39335041e-08, 1.05523768e-09, 2.97114298e-06, ...,\n",
              "         9.99861240e-01, 2.63988513e-05, 3.43185889e-06],\n",
              "        [2.42785725e-09, 9.68583772e-05, 9.99901950e-01, ...,\n",
              "         3.90791440e-15, 1.37982612e-08, 8.68109509e-18],\n",
              "        [1.10907038e-07, 9.99560058e-01, 1.13084410e-04, ...,\n",
              "         1.96326466e-04, 9.02408137e-05, 3.78953473e-08],\n",
              "        ...,\n",
              "        [1.37043536e-14, 1.60578256e-12, 1.12037810e-15, ...,\n",
              "         9.32146875e-08, 1.36008085e-08, 9.40635800e-08],\n",
              "        [1.10578373e-10, 5.96167809e-13, 1.54555497e-15, ...,\n",
              "         1.74645975e-11, 8.31071113e-04, 2.44215320e-14],\n",
              "        [4.42509328e-11, 1.26189125e-13, 3.16133342e-10, ...,\n",
              "         2.08141474e-14, 7.89702245e-12, 2.73139038e-14]], dtype=float32),\n",
              " array([[1.4358445e-08],\n",
              "        [2.1315348e-10],\n",
              "        [1.7819724e-07],\n",
              "        ...,\n",
              "        [6.9054246e-13],\n",
              "        [6.8515332e-12],\n",
              "        [2.2385230e-12]], dtype=float32)]"
            ]
          },
          "metadata": {},
          "execution_count": 28
        }
      ]
    },
    {
      "cell_type": "code",
      "source": [],
      "metadata": {
        "id": "fSbHI6OICycz"
      },
      "execution_count": null,
      "outputs": []
    }
  ]
}