{
  "nbformat": 4,
  "nbformat_minor": 0,
  "metadata": {
    "colab": {
      "provenance": [],
      "authorship_tag": "ABX9TyPU2BGtQ3KRonacQar99o5k",
      "include_colab_link": true
    },
    "kernelspec": {
      "name": "python3",
      "display_name": "Python 3"
    },
    "language_info": {
      "name": "python"
    }
  },
  "cells": [
    {
      "cell_type": "markdown",
      "metadata": {
        "id": "view-in-github",
        "colab_type": "text"
      },
      "source": [
        "<a href=\"https://colab.research.google.com/github/anishantony8/Deep-Learning/blob/main/Tensorflow_ANN.ipynb\" target=\"_parent\"><img src=\"https://colab.research.google.com/assets/colab-badge.svg\" alt=\"Open In Colab\"/></a>"
      ]
    },
    {
      "cell_type": "code",
      "execution_count": 1,
      "metadata": {
        "id": "wJd1FGdpowiT"
      },
      "outputs": [],
      "source": [
        "import tensorflow as tf\n",
        "from tensorflow import keras\n",
        "import numpy as np\n",
        "import matplotlib.pyplot"
      ]
    },
    {
      "cell_type": "code",
      "source": [
        "mnist = keras.datasets.mnist"
      ],
      "metadata": {
        "id": "DiB_PEvtpEFR"
      },
      "execution_count": 2,
      "outputs": []
    },
    {
      "cell_type": "code",
      "source": [
        "mnist"
      ],
      "metadata": {
        "colab": {
          "base_uri": "https://localhost:8080/"
        },
        "id": "34smuZGNpE3g",
        "outputId": "1f8efc6d-aa6e-4859-ce38-ea8832185552"
      },
      "execution_count": 3,
      "outputs": [
        {
          "output_type": "execute_result",
          "data": {
            "text/plain": [
              "<module 'keras.api._v2.keras.datasets.mnist' from '/usr/local/lib/python3.9/dist-packages/keras/api/_v2/keras/datasets/mnist/__init__.py'>"
            ]
          },
          "metadata": {},
          "execution_count": 3
        }
      ]
    },
    {
      "cell_type": "code",
      "source": [
        "(x_train, y_train), (x_test, y_test) = mnist.load_data()\n",
        "print(x_train.shape, y_train.shape)"
      ],
      "metadata": {
        "colab": {
          "base_uri": "https://localhost:8080/"
        },
        "id": "yRnjAXzipOYr",
        "outputId": "b4741a3d-2939-4013-b26a-24bb66c2ab39"
      },
      "execution_count": 4,
      "outputs": [
        {
          "output_type": "stream",
          "name": "stdout",
          "text": [
            "Downloading data from https://storage.googleapis.com/tensorflow/tf-keras-datasets/mnist.npz\n",
            "11490434/11490434 [==============================] - 0s 0us/step\n",
            "(60000, 28, 28) (60000,)\n"
          ]
        }
      ]
    },
    {
      "cell_type": "code",
      "source": [
        "x_train, x_test = x_train / 255.0, x_test / 255.0"
      ],
      "metadata": {
        "id": "6MEFFgPBpTL8"
      },
      "execution_count": 5,
      "outputs": []
    },
    {
      "cell_type": "code",
      "source": [
        "model = keras.models.Sequential([\n",
        "        keras.layers.Flatten(input_shape=(28,28)),\n",
        "        keras.layers.Dense(128,activation='relu'),\n",
        "        keras.layers.Dense(10)\n",
        "    ]\n",
        ")"
      ],
      "metadata": {
        "id": "gzNxGeRLpaBs"
      },
      "execution_count": 7,
      "outputs": []
    },
    {
      "cell_type": "code",
      "source": [
        "model.summary()"
      ],
      "metadata": {
        "colab": {
          "base_uri": "https://localhost:8080/"
        },
        "id": "lhWp2KWZqKE3",
        "outputId": "eb50fd6b-4bba-43b2-b958-52fd222f570d"
      },
      "execution_count": 9,
      "outputs": [
        {
          "output_type": "stream",
          "name": "stdout",
          "text": [
            "Model: \"sequential\"\n",
            "_________________________________________________________________\n",
            " Layer (type)                Output Shape              Param #   \n",
            "=================================================================\n",
            " flatten (Flatten)           (None, 784)               0         \n",
            "                                                                 \n",
            " dense (Dense)               (None, 128)               100480    \n",
            "                                                                 \n",
            " dense_1 (Dense)             (None, 10)                1290      \n",
            "                                                                 \n",
            "=================================================================\n",
            "Total params: 101,770\n",
            "Trainable params: 101,770\n",
            "Non-trainable params: 0\n",
            "_________________________________________________________________\n"
          ]
        }
      ]
    },
    {
      "cell_type": "code",
      "source": [
        "loss = keras.losses.SparseCategoricalCrossentropy(from_logits=True)\n",
        "optimizer = keras.optimizers.Adam(learning_rate=0.002)\n",
        "metrics = ['accuracy']"
      ],
      "metadata": {
        "id": "HyCkTb9KqnPz"
      },
      "execution_count": 11,
      "outputs": []
    },
    {
      "cell_type": "code",
      "source": [
        "model.compile(loss=loss,optimizer=optimizer,metrics=metrics)"
      ],
      "metadata": {
        "id": "X3t72GrNrMgf"
      },
      "execution_count": 12,
      "outputs": []
    },
    {
      "cell_type": "code",
      "source": [
        "batch_size = 64\n",
        "epochs = 5"
      ],
      "metadata": {
        "id": "L_7VtxsXrond"
      },
      "execution_count": 13,
      "outputs": []
    },
    {
      "cell_type": "code",
      "source": [
        "model.fit(x_train,y_train,batch_size=batch_size,epochs=epochs,shuffle=True,verbose=2)"
      ],
      "metadata": {
        "colab": {
          "base_uri": "https://localhost:8080/"
        },
        "id": "6gdxhTDvrfhQ",
        "outputId": "420c2600-75a7-408c-e0d3-2c05a79b65d9"
      },
      "execution_count": 14,
      "outputs": [
        {
          "output_type": "stream",
          "name": "stdout",
          "text": [
            "Epoch 1/5\n",
            "938/938 - 4s - loss: 0.2542 - accuracy: 0.9265 - 4s/epoch - 5ms/step\n",
            "Epoch 2/5\n",
            "938/938 - 4s - loss: 0.1114 - accuracy: 0.9670 - 4s/epoch - 4ms/step\n",
            "Epoch 3/5\n",
            "938/938 - 5s - loss: 0.0762 - accuracy: 0.9767 - 5s/epoch - 5ms/step\n",
            "Epoch 4/5\n",
            "938/938 - 3s - loss: 0.0577 - accuracy: 0.9819 - 3s/epoch - 4ms/step\n",
            "Epoch 5/5\n",
            "938/938 - 4s - loss: 0.0458 - accuracy: 0.9855 - 4s/epoch - 4ms/step\n"
          ]
        },
        {
          "output_type": "execute_result",
          "data": {
            "text/plain": [
              "<keras.callbacks.History at 0x7f848d67ac10>"
            ]
          },
          "metadata": {},
          "execution_count": 14
        }
      ]
    },
    {
      "cell_type": "code",
      "source": [
        "model.evaluate(x_test, y_test, batch_size=batch_size, verbose=2)"
      ],
      "metadata": {
        "colab": {
          "base_uri": "https://localhost:8080/"
        },
        "id": "ayIG3vNIr3R5",
        "outputId": "d9b12df1-fcfc-4957-e15e-ad2582acef4d"
      },
      "execution_count": 15,
      "outputs": [
        {
          "output_type": "stream",
          "name": "stdout",
          "text": [
            "157/157 - 1s - loss: 0.0856 - accuracy: 0.9754 - 542ms/epoch - 3ms/step\n"
          ]
        },
        {
          "output_type": "execute_result",
          "data": {
            "text/plain": [
              "[0.08559633791446686, 0.9753999710083008]"
            ]
          },
          "metadata": {},
          "execution_count": 15
        }
      ]
    },
    {
      "cell_type": "code",
      "source": [
        "# Option1:"
      ],
      "metadata": {
        "id": "BpW5kmrSuZT_"
      },
      "execution_count": 24,
      "outputs": []
    },
    {
      "cell_type": "code",
      "source": [
        "predicted_model = keras.models.Sequential([model,keras.layers.Softmax()]) "
      ],
      "metadata": {
        "id": "SJNzChIpsG-3"
      },
      "execution_count": 17,
      "outputs": []
    },
    {
      "cell_type": "code",
      "source": [
        "pred = predicted_model.predict(x_test)\n",
        "pred0 = pred[8]"
      ],
      "metadata": {
        "colab": {
          "base_uri": "https://localhost:8080/"
        },
        "id": "ZXK9FSAstIoD",
        "outputId": "54a2fda4-7b7c-47c9-86ef-e99e77df407e"
      },
      "execution_count": 21,
      "outputs": [
        {
          "output_type": "stream",
          "name": "stdout",
          "text": [
            "313/313 [==============================] - 1s 2ms/step\n"
          ]
        }
      ]
    },
    {
      "cell_type": "code",
      "source": [
        "label0 = np.argmax(pred0)\n",
        "print(label0)"
      ],
      "metadata": {
        "colab": {
          "base_uri": "https://localhost:8080/"
        },
        "id": "VdULkl6Rtf-1",
        "outputId": "374b59d6-c864-4b15-ea4e-ca2c8b1fffa0"
      },
      "execution_count": 22,
      "outputs": [
        {
          "output_type": "stream",
          "name": "stdout",
          "text": [
            "6\n"
          ]
        }
      ]
    },
    {
      "cell_type": "code",
      "source": [
        "predictions = model(x_test)\n",
        "predictions = tf.nn.softmax(predictions)\n",
        "pred0 = predictions[0]\n",
        "print(pred0)\n",
        "label0 = np.argmax(pred0)\n",
        "print(label0)"
      ],
      "metadata": {
        "colab": {
          "base_uri": "https://localhost:8080/"
        },
        "id": "7z0lvZUltwQB",
        "outputId": "ba0323cd-a100-485c-d9f0-5db463b4f80c"
      },
      "execution_count": 25,
      "outputs": [
        {
          "output_type": "stream",
          "name": "stdout",
          "text": [
            "tf.Tensor(\n",
            "[1.7182110e-07 8.1633384e-09 3.4037388e-05 1.1524154e-03 4.3264663e-11\n",
            " 2.6443401e-09 2.0550074e-13 9.9880546e-01 2.8317963e-06 5.0195149e-06], shape=(10,), dtype=float32)\n",
            "7\n"
          ]
        }
      ]
    },
    {
      "cell_type": "code",
      "source": [
        "predictions = model.predict(x_test, batch_size=batch_size)\n",
        "predictions = tf.nn.softmax(predictions)\n",
        "pred0 = predictions[0]\n",
        "print(pred0)\n",
        "label0 = np.argmax(pred0)\n",
        "print(label0)"
      ],
      "metadata": {
        "colab": {
          "base_uri": "https://localhost:8080/"
        },
        "id": "CgnznWGvulWg",
        "outputId": "060d647a-3c2a-42ae-83c0-aee4c7314dd0"
      },
      "execution_count": 26,
      "outputs": [
        {
          "output_type": "stream",
          "name": "stdout",
          "text": [
            "157/157 [==============================] - 1s 3ms/step\n",
            "tf.Tensor(\n",
            "[1.7182110e-07 8.1633384e-09 3.4037388e-05 1.1524154e-03 4.3264663e-11\n",
            " 2.6443401e-09 2.0550074e-13 9.9880546e-01 2.8317963e-06 5.0195149e-06], shape=(10,), dtype=float32)\n",
            "7\n"
          ]
        }
      ]
    },
    {
      "cell_type": "code",
      "source": [
        "pred05 = predictions[0:5]\n",
        "print(pred05.shape)\n",
        "label05 = np.argmax(pred05, axis=1)\n",
        "print(label05)"
      ],
      "metadata": {
        "colab": {
          "base_uri": "https://localhost:8080/"
        },
        "id": "_OKTUrCJu6bH",
        "outputId": "17657500-4b72-4478-aad4-982ffc04c7d6"
      },
      "execution_count": 29,
      "outputs": [
        {
          "output_type": "stream",
          "name": "stdout",
          "text": [
            "(5, 10)\n",
            "[7 2 1 0 4]\n"
          ]
        }
      ]
    },
    {
      "cell_type": "code",
      "source": [
        "np.argmax(pred05, axis=1)"
      ],
      "metadata": {
        "colab": {
          "base_uri": "https://localhost:8080/"
        },
        "id": "095P1w4ivM5-",
        "outputId": "a09b053b-0409-4c6c-e3f2-ab3bb9a82ede"
      },
      "execution_count": 31,
      "outputs": [
        {
          "output_type": "execute_result",
          "data": {
            "text/plain": [
              "array([7, 2, 1, 0, 4])"
            ]
          },
          "metadata": {},
          "execution_count": 31
        }
      ]
    },
    {
      "cell_type": "code",
      "source": [],
      "metadata": {
        "id": "afdjJjJFvZAs"
      },
      "execution_count": null,
      "outputs": []
    }
  ]
}