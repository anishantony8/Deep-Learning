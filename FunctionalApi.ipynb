{
  "nbformat": 4,
  "nbformat_minor": 0,
  "metadata": {
    "colab": {
      "provenance": [],
      "authorship_tag": "ABX9TyMl0HRLGHJR03oy7mbxGJYR",
      "include_colab_link": true
    },
    "kernelspec": {
      "name": "python3",
      "display_name": "Python 3"
    },
    "language_info": {
      "name": "python"
    }
  },
  "cells": [
    {
      "cell_type": "markdown",
      "metadata": {
        "id": "view-in-github",
        "colab_type": "text"
      },
      "source": [
        "<a href=\"https://colab.research.google.com/github/anishantony8/Deep-Learning/blob/main/FunctionalApi.ipynb\" target=\"_parent\"><img src=\"https://colab.research.google.com/assets/colab-badge.svg\" alt=\"Open In Colab\"/></a>"
      ]
    },
    {
      "cell_type": "code",
      "source": [
        "import tensorflow as tf\n",
        "from tensorflow import keras\n",
        "import numpy as np"
      ],
      "metadata": {
        "id": "LSd2LCILBvPj"
      },
      "execution_count": 58,
      "outputs": []
    },
    {
      "cell_type": "code",
      "source": [
        "inputs = keras.Input(shape=(28,28))\n",
        "flatten = keras.layers.Flatten()\n",
        "dense1 = keras.layers.Dense(128, activation='relu')\n",
        "\n",
        "dense2 = keras.layers.Dense(10, activation='softmax', name=\"category_output\")\n",
        "dense3 = keras.layers.Dense(1, activation='sigmoid', name=\"leftright_output\")"
      ],
      "metadata": {
        "id": "UoSmi2-bBw0F"
      },
      "execution_count": 59,
      "outputs": []
    },
    {
      "cell_type": "code",
      "source": [
        "x = flatten(inputs)\n",
        "x = dense1(x)\n",
        "outputs1 = dense2(x)\n",
        "outputs2 = dense3(x)\n",
        "\n",
        "model = keras.Model(inputs=inputs, outputs=[outputs1, outputs2], name=\"mnist_model\")"
      ],
      "metadata": {
        "id": "GAghAqcqBzBH"
      },
      "execution_count": 60,
      "outputs": []
    },
    {
      "cell_type": "code",
      "source": [
        "model.summary()"
      ],
      "metadata": {
        "colab": {
          "base_uri": "https://localhost:8080/"
        },
        "id": "gGOEUsXoCCCq",
        "outputId": "819c4bea-b10e-49c9-d392-b4095903ca8a"
      },
      "execution_count": 61,
      "outputs": [
        {
          "output_type": "stream",
          "name": "stdout",
          "text": [
            "Model: \"mnist_model\"\n",
            "__________________________________________________________________________________________________\n",
            " Layer (type)                   Output Shape         Param #     Connected to                     \n",
            "==================================================================================================\n",
            " input_4 (InputLayer)           [(None, 28, 28)]     0           []                               \n",
            "                                                                                                  \n",
            " flatten_3 (Flatten)            (None, 784)          0           ['input_4[0][0]']                \n",
            "                                                                                                  \n",
            " dense_3 (Dense)                (None, 128)          100480      ['flatten_3[0][0]']              \n",
            "                                                                                                  \n",
            " category_output (Dense)        (None, 10)           1290        ['dense_3[0][0]']                \n",
            "                                                                                                  \n",
            " leftright_output (Dense)       (None, 1)            129         ['dense_3[0][0]']                \n",
            "                                                                                                  \n",
            "==================================================================================================\n",
            "Total params: 101,899\n",
            "Trainable params: 101,899\n",
            "Non-trainable params: 0\n",
            "__________________________________________________________________________________________________\n"
          ]
        }
      ]
    },
    {
      "cell_type": "code",
      "source": [
        "loss1 = keras.losses.SparseCategoricalCrossentropy(from_logits=False)\n",
        "loss2 = keras.losses.BinaryCrossentropy(from_logits=False)\n",
        "optim = keras.optimizers.Adam(learning_rate=0.001)\n",
        "metrics = [\"accuracy\"]\n",
        "\n",
        "losses = {\n",
        "    \"category_output\": loss1,\n",
        "    \"leftright_output\": loss2,\n",
        "}\n",
        "\n",
        "model.compile(loss=losses, optimizer=optim, metrics=metrics)"
      ],
      "metadata": {
        "id": "QCzPbNVxCETM"
      },
      "execution_count": 63,
      "outputs": []
    },
    {
      "cell_type": "code",
      "source": [
        "mnist = keras.datasets.mnist\n",
        "(x_train, y_train), (x_test, y_test) = mnist.load_data()\n",
        "x_train, x_test = x_train / 255.0, x_test / 255.0\n",
        "\n",
        "# 0=left, 1=right\n",
        "y_leftright = np.zeros(y_train.shape, dtype=np.uint8)\n",
        "for idx, y in enumerate(y_train):\n",
        "    if y > 5:\n",
        "        y_leftright[idx] = 1\n",
        "\n",
        "print(y_train.dtype, y_train[0:20])\n",
        "print(y_leftright.dtype, y_leftright[0:20])\n",
        "\n",
        "y= {\"category_output\": y_train,\n",
        "    \"leftright_output\": y_leftright }"
      ],
      "metadata": {
        "colab": {
          "base_uri": "https://localhost:8080/"
        },
        "id": "WRa4OpXJCND4",
        "outputId": "21dc8cc6-8a1c-474a-87dc-51086732522e"
      },
      "execution_count": 64,
      "outputs": [
        {
          "output_type": "stream",
          "name": "stdout",
          "text": [
            "uint8 [5 0 4 1 9 2 1 3 1 4 3 5 3 6 1 7 2 8 6 9]\n",
            "uint8 [0 0 0 0 1 0 0 0 0 0 0 0 0 1 0 1 0 1 1 1]\n"
          ]
        }
      ]
    },
    {
      "cell_type": "code",
      "source": [
        "model.fit(x_train, y=y, epochs=5,\n",
        "          batch_size=64, verbose=2)"
      ],
      "metadata": {
        "colab": {
          "base_uri": "https://localhost:8080/"
        },
        "id": "FIFTYupLCVjA",
        "outputId": "694b37f4-700f-4fe9-dab8-ad40eac1614a"
      },
      "execution_count": 65,
      "outputs": [
        {
          "output_type": "stream",
          "name": "stdout",
          "text": [
            "Epoch 1/5\n",
            "938/938 - 6s - loss: 0.4970 - category_output_loss: 0.3023 - leftright_output_loss: 0.1947 - category_output_accuracy: 0.9151 - leftright_output_accuracy: 0.9290 - 6s/epoch - 6ms/step\n",
            "Epoch 2/5\n",
            "938/938 - 5s - loss: 0.2316 - category_output_loss: 0.1349 - leftright_output_loss: 0.0967 - category_output_accuracy: 0.9606 - leftright_output_accuracy: 0.9671 - 5s/epoch - 6ms/step\n",
            "Epoch 3/5\n",
            "938/938 - 4s - loss: 0.1696 - category_output_loss: 0.0947 - leftright_output_loss: 0.0749 - category_output_accuracy: 0.9717 - leftright_output_accuracy: 0.9747 - 4s/epoch - 4ms/step\n",
            "Epoch 4/5\n",
            "938/938 - 4s - loss: 0.1338 - category_output_loss: 0.0724 - leftright_output_loss: 0.0615 - category_output_accuracy: 0.9785 - leftright_output_accuracy: 0.9793 - 4s/epoch - 4ms/step\n",
            "Epoch 5/5\n",
            "938/938 - 5s - loss: 0.1119 - category_output_loss: 0.0592 - leftright_output_loss: 0.0527 - category_output_accuracy: 0.9823 - leftright_output_accuracy: 0.9821 - 5s/epoch - 5ms/step\n"
          ]
        },
        {
          "output_type": "execute_result",
          "data": {
            "text/plain": [
              "<keras.callbacks.History at 0x7f5d695ec640>"
            ]
          },
          "metadata": {},
          "execution_count": 65
        }
      ]
    },
    {
      "cell_type": "code",
      "source": [
        "predictions = model.predict(x_test)\n",
        "len(predictions)"
      ],
      "metadata": {
        "colab": {
          "base_uri": "https://localhost:8080/"
        },
        "id": "9Qvp2iCrCYXr",
        "outputId": "accb3259-36b0-4e51-9c37-78e6cd76f4e2"
      },
      "execution_count": 66,
      "outputs": [
        {
          "output_type": "stream",
          "name": "stdout",
          "text": [
            "313/313 [==============================] - 1s 3ms/step\n"
          ]
        },
        {
          "output_type": "execute_result",
          "data": {
            "text/plain": [
              "2"
            ]
          },
          "metadata": {},
          "execution_count": 66
        }
      ]
    },
    {
      "cell_type": "code",
      "source": [
        "prediction_category = predictions[0]\n",
        "prediction_lr = predictions[1]\n",
        "\n",
        "pr_cat = prediction_category[0:20]\n",
        "prediction_lr = prediction_lr[0:20]\n",
        "\n",
        "labels_cat = np.argmax(pr_cat, axis=1)\n",
        "labels_lr = np.array([1 if p >= 0.5 else 0 for p in prediction_lr])"
      ],
      "metadata": {
        "id": "eEyqU0LcDMCv"
      },
      "execution_count": 67,
      "outputs": []
    },
    {
      "cell_type": "code",
      "source": [
        "print(y_test[0:20])\n",
        "print(labels_cat)\n",
        "print(labels_lr)"
      ],
      "metadata": {
        "colab": {
          "base_uri": "https://localhost:8080/"
        },
        "id": "bjIbn18bDTs-",
        "outputId": "9dca6ca8-cabe-43ae-a0e9-a7e55705dc8e"
      },
      "execution_count": 68,
      "outputs": [
        {
          "output_type": "stream",
          "name": "stdout",
          "text": [
            "[7 2 1 0 4 1 4 9 5 9 0 6 9 0 1 5 9 7 3 4]\n",
            "[7 2 1 0 4 1 4 9 5 9 0 6 9 0 1 5 9 7 3 4]\n",
            "[1 0 0 0 0 0 0 1 1 1 0 1 1 0 0 0 1 1 0 0]\n"
          ]
        }
      ]
    },
    {
      "cell_type": "code",
      "source": [],
      "metadata": {
        "id": "yQ7Uq5uKDWBH"
      },
      "execution_count": null,
      "outputs": []
    }
  ]
}